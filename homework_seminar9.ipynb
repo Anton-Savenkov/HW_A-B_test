{
  "nbformat": 4,
  "nbformat_minor": 0,
  "metadata": {
    "colab": {
      "provenance": [],
      "include_colab_link": true
    },
    "kernelspec": {
      "name": "python3",
      "display_name": "Python 3"
    },
    "language_info": {
      "name": "python"
    }
  },
  "cells": [
    {
      "cell_type": "markdown",
      "metadata": {
        "id": "view-in-github",
        "colab_type": "text"
      },
      "source": [
        "<a href=\"https://colab.research.google.com/github/Anton-Savenkov/HW_A-B_test/blob/main/homework_seminar9.ipynb\" target=\"_parent\"><img src=\"https://colab.research.google.com/assets/colab-badge.svg\" alt=\"Open In Colab\"/></a>"
      ]
    },
    {
      "cell_type": "markdown",
      "source": [
        "## Homework_seminar9"
      ],
      "metadata": {
        "id": "0X_tYu6U9czn"
      }
    },
    {
      "cell_type": "markdown",
      "source": [
        "###task\n",
        "Проанализируйте результаты эксперимента и напишите свои рекомендации менеджеру.\n",
        "\n",
        "Mobile Games AB Testing with Cookie Cats."
      ],
      "metadata": {
        "id": "gah5LRh89olH"
      }
    },
    {
      "cell_type": "code",
      "source": [
        "# Importing pandas\n",
        "import pandas as pd\n",
        "from google.colab import files\n"
      ],
      "metadata": {
        "id": "KT-3S3eH9yGm"
      },
      "execution_count": 34,
      "outputs": []
    },
    {
      "cell_type": "code",
      "execution_count": null,
      "metadata": {
        "id": "zdhlUwsMsG0O"
      },
      "outputs": [],
      "source": [
        "import matplotlib.pyplot as plt\n",
        "df = pd.read_csv('/content/drive/MyDrive/cookie_cats.csv')"
      ]
    },
    {
      "cell_type": "code",
      "source": [
        "df.info()"
      ],
      "metadata": {
        "colab": {
          "base_uri": "https://localhost:8080/"
        },
        "id": "aFKmxa1nbsXf",
        "outputId": "2eb6d01a-1471-41b5-bfef-447693c79be7"
      },
      "execution_count": null,
      "outputs": [
        {
          "output_type": "stream",
          "name": "stdout",
          "text": [
            "<class 'pandas.core.frame.DataFrame'>\n",
            "RangeIndex: 90189 entries, 0 to 90188\n",
            "Data columns (total 5 columns):\n",
            " #   Column          Non-Null Count  Dtype \n",
            "---  ------          --------------  ----- \n",
            " 0   userid          90189 non-null  int64 \n",
            " 1   version         90189 non-null  object\n",
            " 2   sum_gamerounds  90189 non-null  int64 \n",
            " 3   retention_1     90189 non-null  int64 \n",
            " 4   retention_7     90189 non-null  int64 \n",
            "dtypes: int64(4), object(1)\n",
            "memory usage: 3.4+ MB\n"
          ]
        }
      ]
    },
    {
      "cell_type": "code",
      "source": [
        "df.describe()"
      ],
      "metadata": {
        "colab": {
          "base_uri": "https://localhost:8080/",
          "height": 300
        },
        "id": "roVD_fZZFiiJ",
        "outputId": "dab0d04b-2d82-439f-9a95-78ce13700205"
      },
      "execution_count": null,
      "outputs": [
        {
          "output_type": "execute_result",
          "data": {
            "text/plain": [
              "             userid  sum_gamerounds   retention_1   retention_7\n",
              "count  9.018900e+04    90189.000000  90189.000000  90189.000000\n",
              "mean   4.998412e+06       51.872457      0.445210      0.186065\n",
              "std    2.883286e+06      195.050858      0.496992      0.389161\n",
              "min    1.160000e+02        0.000000      0.000000      0.000000\n",
              "25%    2.512230e+06        5.000000      0.000000      0.000000\n",
              "50%    4.995815e+06       16.000000      0.000000      0.000000\n",
              "75%    7.496452e+06       51.000000      1.000000      0.000000\n",
              "max    9.999861e+06    49854.000000      1.000000      1.000000"
            ],
            "text/html": [
              "\n",
              "  <div id=\"df-daed9b73-9376-4bc8-bd6a-6719efd250e8\">\n",
              "    <div class=\"colab-df-container\">\n",
              "      <div>\n",
              "<style scoped>\n",
              "    .dataframe tbody tr th:only-of-type {\n",
              "        vertical-align: middle;\n",
              "    }\n",
              "\n",
              "    .dataframe tbody tr th {\n",
              "        vertical-align: top;\n",
              "    }\n",
              "\n",
              "    .dataframe thead th {\n",
              "        text-align: right;\n",
              "    }\n",
              "</style>\n",
              "<table border=\"1\" class=\"dataframe\">\n",
              "  <thead>\n",
              "    <tr style=\"text-align: right;\">\n",
              "      <th></th>\n",
              "      <th>userid</th>\n",
              "      <th>sum_gamerounds</th>\n",
              "      <th>retention_1</th>\n",
              "      <th>retention_7</th>\n",
              "    </tr>\n",
              "  </thead>\n",
              "  <tbody>\n",
              "    <tr>\n",
              "      <th>count</th>\n",
              "      <td>9.018900e+04</td>\n",
              "      <td>90189.000000</td>\n",
              "      <td>90189.000000</td>\n",
              "      <td>90189.000000</td>\n",
              "    </tr>\n",
              "    <tr>\n",
              "      <th>mean</th>\n",
              "      <td>4.998412e+06</td>\n",
              "      <td>51.872457</td>\n",
              "      <td>0.445210</td>\n",
              "      <td>0.186065</td>\n",
              "    </tr>\n",
              "    <tr>\n",
              "      <th>std</th>\n",
              "      <td>2.883286e+06</td>\n",
              "      <td>195.050858</td>\n",
              "      <td>0.496992</td>\n",
              "      <td>0.389161</td>\n",
              "    </tr>\n",
              "    <tr>\n",
              "      <th>min</th>\n",
              "      <td>1.160000e+02</td>\n",
              "      <td>0.000000</td>\n",
              "      <td>0.000000</td>\n",
              "      <td>0.000000</td>\n",
              "    </tr>\n",
              "    <tr>\n",
              "      <th>25%</th>\n",
              "      <td>2.512230e+06</td>\n",
              "      <td>5.000000</td>\n",
              "      <td>0.000000</td>\n",
              "      <td>0.000000</td>\n",
              "    </tr>\n",
              "    <tr>\n",
              "      <th>50%</th>\n",
              "      <td>4.995815e+06</td>\n",
              "      <td>16.000000</td>\n",
              "      <td>0.000000</td>\n",
              "      <td>0.000000</td>\n",
              "    </tr>\n",
              "    <tr>\n",
              "      <th>75%</th>\n",
              "      <td>7.496452e+06</td>\n",
              "      <td>51.000000</td>\n",
              "      <td>1.000000</td>\n",
              "      <td>0.000000</td>\n",
              "    </tr>\n",
              "    <tr>\n",
              "      <th>max</th>\n",
              "      <td>9.999861e+06</td>\n",
              "      <td>49854.000000</td>\n",
              "      <td>1.000000</td>\n",
              "      <td>1.000000</td>\n",
              "    </tr>\n",
              "  </tbody>\n",
              "</table>\n",
              "</div>\n",
              "      <button class=\"colab-df-convert\" onclick=\"convertToInteractive('df-daed9b73-9376-4bc8-bd6a-6719efd250e8')\"\n",
              "              title=\"Convert this dataframe to an interactive table.\"\n",
              "              style=\"display:none;\">\n",
              "        \n",
              "  <svg xmlns=\"http://www.w3.org/2000/svg\" height=\"24px\"viewBox=\"0 0 24 24\"\n",
              "       width=\"24px\">\n",
              "    <path d=\"M0 0h24v24H0V0z\" fill=\"none\"/>\n",
              "    <path d=\"M18.56 5.44l.94 2.06.94-2.06 2.06-.94-2.06-.94-.94-2.06-.94 2.06-2.06.94zm-11 1L8.5 8.5l.94-2.06 2.06-.94-2.06-.94L8.5 2.5l-.94 2.06-2.06.94zm10 10l.94 2.06.94-2.06 2.06-.94-2.06-.94-.94-2.06-.94 2.06-2.06.94z\"/><path d=\"M17.41 7.96l-1.37-1.37c-.4-.4-.92-.59-1.43-.59-.52 0-1.04.2-1.43.59L10.3 9.45l-7.72 7.72c-.78.78-.78 2.05 0 2.83L4 21.41c.39.39.9.59 1.41.59.51 0 1.02-.2 1.41-.59l7.78-7.78 2.81-2.81c.8-.78.8-2.07 0-2.86zM5.41 20L4 18.59l7.72-7.72 1.47 1.35L5.41 20z\"/>\n",
              "  </svg>\n",
              "      </button>\n",
              "      \n",
              "  <style>\n",
              "    .colab-df-container {\n",
              "      display:flex;\n",
              "      flex-wrap:wrap;\n",
              "      gap: 12px;\n",
              "    }\n",
              "\n",
              "    .colab-df-convert {\n",
              "      background-color: #E8F0FE;\n",
              "      border: none;\n",
              "      border-radius: 50%;\n",
              "      cursor: pointer;\n",
              "      display: none;\n",
              "      fill: #1967D2;\n",
              "      height: 32px;\n",
              "      padding: 0 0 0 0;\n",
              "      width: 32px;\n",
              "    }\n",
              "\n",
              "    .colab-df-convert:hover {\n",
              "      background-color: #E2EBFA;\n",
              "      box-shadow: 0px 1px 2px rgba(60, 64, 67, 0.3), 0px 1px 3px 1px rgba(60, 64, 67, 0.15);\n",
              "      fill: #174EA6;\n",
              "    }\n",
              "\n",
              "    [theme=dark] .colab-df-convert {\n",
              "      background-color: #3B4455;\n",
              "      fill: #D2E3FC;\n",
              "    }\n",
              "\n",
              "    [theme=dark] .colab-df-convert:hover {\n",
              "      background-color: #434B5C;\n",
              "      box-shadow: 0px 1px 3px 1px rgba(0, 0, 0, 0.15);\n",
              "      filter: drop-shadow(0px 1px 2px rgba(0, 0, 0, 0.3));\n",
              "      fill: #FFFFFF;\n",
              "    }\n",
              "  </style>\n",
              "\n",
              "      <script>\n",
              "        const buttonEl =\n",
              "          document.querySelector('#df-daed9b73-9376-4bc8-bd6a-6719efd250e8 button.colab-df-convert');\n",
              "        buttonEl.style.display =\n",
              "          google.colab.kernel.accessAllowed ? 'block' : 'none';\n",
              "\n",
              "        async function convertToInteractive(key) {\n",
              "          const element = document.querySelector('#df-daed9b73-9376-4bc8-bd6a-6719efd250e8');\n",
              "          const dataTable =\n",
              "            await google.colab.kernel.invokeFunction('convertToInteractive',\n",
              "                                                     [key], {});\n",
              "          if (!dataTable) return;\n",
              "\n",
              "          const docLinkHtml = 'Like what you see? Visit the ' +\n",
              "            '<a target=\"_blank\" href=https://colab.research.google.com/notebooks/data_table.ipynb>data table notebook</a>'\n",
              "            + ' to learn more about interactive tables.';\n",
              "          element.innerHTML = '';\n",
              "          dataTable['output_type'] = 'display_data';\n",
              "          await google.colab.output.renderOutput(dataTable, element);\n",
              "          const docLink = document.createElement('div');\n",
              "          docLink.innerHTML = docLinkHtml;\n",
              "          element.appendChild(docLink);\n",
              "        }\n",
              "      </script>\n",
              "    </div>\n",
              "  </div>\n",
              "  "
            ]
          },
          "metadata": {},
          "execution_count": 7
        }
      ]
    },
    {
      "cell_type": "code",
      "source": [
        "df.version.unique()"
      ],
      "metadata": {
        "colab": {
          "base_uri": "https://localhost:8080/"
        },
        "id": "Hx5rZp2RGbds",
        "outputId": "b1daef1f-3820-4bb7-d59f-d87a6c998a5e"
      },
      "execution_count": null,
      "outputs": [
        {
          "output_type": "execute_result",
          "data": {
            "text/plain": [
              "array(['gate_30', 'gate_40'], dtype=object)"
            ]
          },
          "metadata": {},
          "execution_count": 8
        }
      ]
    },
    {
      "cell_type": "code",
      "source": [
        "df.nlargest(5, ['sum_gamerounds'])"
      ],
      "metadata": {
        "colab": {
          "base_uri": "https://localhost:8080/",
          "height": 206
        },
        "id": "w5vMy7snJItw",
        "outputId": "8aa65f3c-aed4-44cb-bb6c-0b5f7f2f1863"
      },
      "execution_count": null,
      "outputs": [
        {
          "output_type": "execute_result",
          "data": {
            "text/plain": [
              "        userid  version  sum_gamerounds  retention_1  retention_7\n",
              "57702  6390605  gate_30           49854            0            1\n",
              "7912    871500  gate_30            2961            1            1\n",
              "29417  3271615  gate_40            2640            1            0\n",
              "43671  4832608  gate_30            2438            1            1\n",
              "48188  5346171  gate_40            2294            1            1"
            ],
            "text/html": [
              "\n",
              "  <div id=\"df-37880979-71d4-479e-a9a1-f8c3aa69753a\">\n",
              "    <div class=\"colab-df-container\">\n",
              "      <div>\n",
              "<style scoped>\n",
              "    .dataframe tbody tr th:only-of-type {\n",
              "        vertical-align: middle;\n",
              "    }\n",
              "\n",
              "    .dataframe tbody tr th {\n",
              "        vertical-align: top;\n",
              "    }\n",
              "\n",
              "    .dataframe thead th {\n",
              "        text-align: right;\n",
              "    }\n",
              "</style>\n",
              "<table border=\"1\" class=\"dataframe\">\n",
              "  <thead>\n",
              "    <tr style=\"text-align: right;\">\n",
              "      <th></th>\n",
              "      <th>userid</th>\n",
              "      <th>version</th>\n",
              "      <th>sum_gamerounds</th>\n",
              "      <th>retention_1</th>\n",
              "      <th>retention_7</th>\n",
              "    </tr>\n",
              "  </thead>\n",
              "  <tbody>\n",
              "    <tr>\n",
              "      <th>57702</th>\n",
              "      <td>6390605</td>\n",
              "      <td>gate_30</td>\n",
              "      <td>49854</td>\n",
              "      <td>0</td>\n",
              "      <td>1</td>\n",
              "    </tr>\n",
              "    <tr>\n",
              "      <th>7912</th>\n",
              "      <td>871500</td>\n",
              "      <td>gate_30</td>\n",
              "      <td>2961</td>\n",
              "      <td>1</td>\n",
              "      <td>1</td>\n",
              "    </tr>\n",
              "    <tr>\n",
              "      <th>29417</th>\n",
              "      <td>3271615</td>\n",
              "      <td>gate_40</td>\n",
              "      <td>2640</td>\n",
              "      <td>1</td>\n",
              "      <td>0</td>\n",
              "    </tr>\n",
              "    <tr>\n",
              "      <th>43671</th>\n",
              "      <td>4832608</td>\n",
              "      <td>gate_30</td>\n",
              "      <td>2438</td>\n",
              "      <td>1</td>\n",
              "      <td>1</td>\n",
              "    </tr>\n",
              "    <tr>\n",
              "      <th>48188</th>\n",
              "      <td>5346171</td>\n",
              "      <td>gate_40</td>\n",
              "      <td>2294</td>\n",
              "      <td>1</td>\n",
              "      <td>1</td>\n",
              "    </tr>\n",
              "  </tbody>\n",
              "</table>\n",
              "</div>\n",
              "      <button class=\"colab-df-convert\" onclick=\"convertToInteractive('df-37880979-71d4-479e-a9a1-f8c3aa69753a')\"\n",
              "              title=\"Convert this dataframe to an interactive table.\"\n",
              "              style=\"display:none;\">\n",
              "        \n",
              "  <svg xmlns=\"http://www.w3.org/2000/svg\" height=\"24px\"viewBox=\"0 0 24 24\"\n",
              "       width=\"24px\">\n",
              "    <path d=\"M0 0h24v24H0V0z\" fill=\"none\"/>\n",
              "    <path d=\"M18.56 5.44l.94 2.06.94-2.06 2.06-.94-2.06-.94-.94-2.06-.94 2.06-2.06.94zm-11 1L8.5 8.5l.94-2.06 2.06-.94-2.06-.94L8.5 2.5l-.94 2.06-2.06.94zm10 10l.94 2.06.94-2.06 2.06-.94-2.06-.94-.94-2.06-.94 2.06-2.06.94z\"/><path d=\"M17.41 7.96l-1.37-1.37c-.4-.4-.92-.59-1.43-.59-.52 0-1.04.2-1.43.59L10.3 9.45l-7.72 7.72c-.78.78-.78 2.05 0 2.83L4 21.41c.39.39.9.59 1.41.59.51 0 1.02-.2 1.41-.59l7.78-7.78 2.81-2.81c.8-.78.8-2.07 0-2.86zM5.41 20L4 18.59l7.72-7.72 1.47 1.35L5.41 20z\"/>\n",
              "  </svg>\n",
              "      </button>\n",
              "      \n",
              "  <style>\n",
              "    .colab-df-container {\n",
              "      display:flex;\n",
              "      flex-wrap:wrap;\n",
              "      gap: 12px;\n",
              "    }\n",
              "\n",
              "    .colab-df-convert {\n",
              "      background-color: #E8F0FE;\n",
              "      border: none;\n",
              "      border-radius: 50%;\n",
              "      cursor: pointer;\n",
              "      display: none;\n",
              "      fill: #1967D2;\n",
              "      height: 32px;\n",
              "      padding: 0 0 0 0;\n",
              "      width: 32px;\n",
              "    }\n",
              "\n",
              "    .colab-df-convert:hover {\n",
              "      background-color: #E2EBFA;\n",
              "      box-shadow: 0px 1px 2px rgba(60, 64, 67, 0.3), 0px 1px 3px 1px rgba(60, 64, 67, 0.15);\n",
              "      fill: #174EA6;\n",
              "    }\n",
              "\n",
              "    [theme=dark] .colab-df-convert {\n",
              "      background-color: #3B4455;\n",
              "      fill: #D2E3FC;\n",
              "    }\n",
              "\n",
              "    [theme=dark] .colab-df-convert:hover {\n",
              "      background-color: #434B5C;\n",
              "      box-shadow: 0px 1px 3px 1px rgba(0, 0, 0, 0.15);\n",
              "      filter: drop-shadow(0px 1px 2px rgba(0, 0, 0, 0.3));\n",
              "      fill: #FFFFFF;\n",
              "    }\n",
              "  </style>\n",
              "\n",
              "      <script>\n",
              "        const buttonEl =\n",
              "          document.querySelector('#df-37880979-71d4-479e-a9a1-f8c3aa69753a button.colab-df-convert');\n",
              "        buttonEl.style.display =\n",
              "          google.colab.kernel.accessAllowed ? 'block' : 'none';\n",
              "\n",
              "        async function convertToInteractive(key) {\n",
              "          const element = document.querySelector('#df-37880979-71d4-479e-a9a1-f8c3aa69753a');\n",
              "          const dataTable =\n",
              "            await google.colab.kernel.invokeFunction('convertToInteractive',\n",
              "                                                     [key], {});\n",
              "          if (!dataTable) return;\n",
              "\n",
              "          const docLinkHtml = 'Like what you see? Visit the ' +\n",
              "            '<a target=\"_blank\" href=https://colab.research.google.com/notebooks/data_table.ipynb>data table notebook</a>'\n",
              "            + ' to learn more about interactive tables.';\n",
              "          element.innerHTML = '';\n",
              "          dataTable['output_type'] = 'display_data';\n",
              "          await google.colab.output.renderOutput(dataTable, element);\n",
              "          const docLink = document.createElement('div');\n",
              "          docLink.innerHTML = docLinkHtml;\n",
              "          element.appendChild(docLink);\n",
              "        }\n",
              "      </script>\n",
              "    </div>\n",
              "  </div>\n",
              "  "
            ]
          },
          "metadata": {},
          "execution_count": 9
        }
      ]
    },
    {
      "cell_type": "code",
      "source": [
        "# Избавляемся от выброса\n",
        "df = df[df.sum_gamerounds < 3000]"
      ],
      "metadata": {
        "id": "PFkSlo-wKC0Z"
      },
      "execution_count": null,
      "outputs": []
    },
    {
      "cell_type": "code",
      "source": [
        "df.describe()"
      ],
      "metadata": {
        "colab": {
          "base_uri": "https://localhost:8080/",
          "height": 300
        },
        "id": "4LEonfQ6Kfki",
        "outputId": "55a9b7dd-7ce2-489e-a6f0-de8bd9c5ca22"
      },
      "execution_count": null,
      "outputs": [
        {
          "output_type": "execute_result",
          "data": {
            "text/plain": [
              "             userid  sum_gamerounds   retention_1   retention_7\n",
              "count  9.018800e+04    90188.000000  90188.000000  90188.000000\n",
              "mean   4.998397e+06       51.320253      0.445214      0.186056\n",
              "std    2.883298e+06      102.682719      0.496992      0.389154\n",
              "min    1.160000e+02        0.000000      0.000000      0.000000\n",
              "25%    2.512211e+06        5.000000      0.000000      0.000000\n",
              "50%    4.995804e+06       16.000000      0.000000      0.000000\n",
              "75%    7.496461e+06       51.000000      1.000000      0.000000\n",
              "max    9.999861e+06     2961.000000      1.000000      1.000000"
            ],
            "text/html": [
              "\n",
              "  <div id=\"df-2ab55c11-dbfe-4982-9373-5b5c89e19956\">\n",
              "    <div class=\"colab-df-container\">\n",
              "      <div>\n",
              "<style scoped>\n",
              "    .dataframe tbody tr th:only-of-type {\n",
              "        vertical-align: middle;\n",
              "    }\n",
              "\n",
              "    .dataframe tbody tr th {\n",
              "        vertical-align: top;\n",
              "    }\n",
              "\n",
              "    .dataframe thead th {\n",
              "        text-align: right;\n",
              "    }\n",
              "</style>\n",
              "<table border=\"1\" class=\"dataframe\">\n",
              "  <thead>\n",
              "    <tr style=\"text-align: right;\">\n",
              "      <th></th>\n",
              "      <th>userid</th>\n",
              "      <th>sum_gamerounds</th>\n",
              "      <th>retention_1</th>\n",
              "      <th>retention_7</th>\n",
              "    </tr>\n",
              "  </thead>\n",
              "  <tbody>\n",
              "    <tr>\n",
              "      <th>count</th>\n",
              "      <td>9.018800e+04</td>\n",
              "      <td>90188.000000</td>\n",
              "      <td>90188.000000</td>\n",
              "      <td>90188.000000</td>\n",
              "    </tr>\n",
              "    <tr>\n",
              "      <th>mean</th>\n",
              "      <td>4.998397e+06</td>\n",
              "      <td>51.320253</td>\n",
              "      <td>0.445214</td>\n",
              "      <td>0.186056</td>\n",
              "    </tr>\n",
              "    <tr>\n",
              "      <th>std</th>\n",
              "      <td>2.883298e+06</td>\n",
              "      <td>102.682719</td>\n",
              "      <td>0.496992</td>\n",
              "      <td>0.389154</td>\n",
              "    </tr>\n",
              "    <tr>\n",
              "      <th>min</th>\n",
              "      <td>1.160000e+02</td>\n",
              "      <td>0.000000</td>\n",
              "      <td>0.000000</td>\n",
              "      <td>0.000000</td>\n",
              "    </tr>\n",
              "    <tr>\n",
              "      <th>25%</th>\n",
              "      <td>2.512211e+06</td>\n",
              "      <td>5.000000</td>\n",
              "      <td>0.000000</td>\n",
              "      <td>0.000000</td>\n",
              "    </tr>\n",
              "    <tr>\n",
              "      <th>50%</th>\n",
              "      <td>4.995804e+06</td>\n",
              "      <td>16.000000</td>\n",
              "      <td>0.000000</td>\n",
              "      <td>0.000000</td>\n",
              "    </tr>\n",
              "    <tr>\n",
              "      <th>75%</th>\n",
              "      <td>7.496461e+06</td>\n",
              "      <td>51.000000</td>\n",
              "      <td>1.000000</td>\n",
              "      <td>0.000000</td>\n",
              "    </tr>\n",
              "    <tr>\n",
              "      <th>max</th>\n",
              "      <td>9.999861e+06</td>\n",
              "      <td>2961.000000</td>\n",
              "      <td>1.000000</td>\n",
              "      <td>1.000000</td>\n",
              "    </tr>\n",
              "  </tbody>\n",
              "</table>\n",
              "</div>\n",
              "      <button class=\"colab-df-convert\" onclick=\"convertToInteractive('df-2ab55c11-dbfe-4982-9373-5b5c89e19956')\"\n",
              "              title=\"Convert this dataframe to an interactive table.\"\n",
              "              style=\"display:none;\">\n",
              "        \n",
              "  <svg xmlns=\"http://www.w3.org/2000/svg\" height=\"24px\"viewBox=\"0 0 24 24\"\n",
              "       width=\"24px\">\n",
              "    <path d=\"M0 0h24v24H0V0z\" fill=\"none\"/>\n",
              "    <path d=\"M18.56 5.44l.94 2.06.94-2.06 2.06-.94-2.06-.94-.94-2.06-.94 2.06-2.06.94zm-11 1L8.5 8.5l.94-2.06 2.06-.94-2.06-.94L8.5 2.5l-.94 2.06-2.06.94zm10 10l.94 2.06.94-2.06 2.06-.94-2.06-.94-.94-2.06-.94 2.06-2.06.94z\"/><path d=\"M17.41 7.96l-1.37-1.37c-.4-.4-.92-.59-1.43-.59-.52 0-1.04.2-1.43.59L10.3 9.45l-7.72 7.72c-.78.78-.78 2.05 0 2.83L4 21.41c.39.39.9.59 1.41.59.51 0 1.02-.2 1.41-.59l7.78-7.78 2.81-2.81c.8-.78.8-2.07 0-2.86zM5.41 20L4 18.59l7.72-7.72 1.47 1.35L5.41 20z\"/>\n",
              "  </svg>\n",
              "      </button>\n",
              "      \n",
              "  <style>\n",
              "    .colab-df-container {\n",
              "      display:flex;\n",
              "      flex-wrap:wrap;\n",
              "      gap: 12px;\n",
              "    }\n",
              "\n",
              "    .colab-df-convert {\n",
              "      background-color: #E8F0FE;\n",
              "      border: none;\n",
              "      border-radius: 50%;\n",
              "      cursor: pointer;\n",
              "      display: none;\n",
              "      fill: #1967D2;\n",
              "      height: 32px;\n",
              "      padding: 0 0 0 0;\n",
              "      width: 32px;\n",
              "    }\n",
              "\n",
              "    .colab-df-convert:hover {\n",
              "      background-color: #E2EBFA;\n",
              "      box-shadow: 0px 1px 2px rgba(60, 64, 67, 0.3), 0px 1px 3px 1px rgba(60, 64, 67, 0.15);\n",
              "      fill: #174EA6;\n",
              "    }\n",
              "\n",
              "    [theme=dark] .colab-df-convert {\n",
              "      background-color: #3B4455;\n",
              "      fill: #D2E3FC;\n",
              "    }\n",
              "\n",
              "    [theme=dark] .colab-df-convert:hover {\n",
              "      background-color: #434B5C;\n",
              "      box-shadow: 0px 1px 3px 1px rgba(0, 0, 0, 0.15);\n",
              "      filter: drop-shadow(0px 1px 2px rgba(0, 0, 0, 0.3));\n",
              "      fill: #FFFFFF;\n",
              "    }\n",
              "  </style>\n",
              "\n",
              "      <script>\n",
              "        const buttonEl =\n",
              "          document.querySelector('#df-2ab55c11-dbfe-4982-9373-5b5c89e19956 button.colab-df-convert');\n",
              "        buttonEl.style.display =\n",
              "          google.colab.kernel.accessAllowed ? 'block' : 'none';\n",
              "\n",
              "        async function convertToInteractive(key) {\n",
              "          const element = document.querySelector('#df-2ab55c11-dbfe-4982-9373-5b5c89e19956');\n",
              "          const dataTable =\n",
              "            await google.colab.kernel.invokeFunction('convertToInteractive',\n",
              "                                                     [key], {});\n",
              "          if (!dataTable) return;\n",
              "\n",
              "          const docLinkHtml = 'Like what you see? Visit the ' +\n",
              "            '<a target=\"_blank\" href=https://colab.research.google.com/notebooks/data_table.ipynb>data table notebook</a>'\n",
              "            + ' to learn more about interactive tables.';\n",
              "          element.innerHTML = '';\n",
              "          dataTable['output_type'] = 'display_data';\n",
              "          await google.colab.output.renderOutput(dataTable, element);\n",
              "          const docLink = document.createElement('div');\n",
              "          docLink.innerHTML = docLinkHtml;\n",
              "          element.appendChild(docLink);\n",
              "        }\n",
              "      </script>\n",
              "    </div>\n",
              "  </div>\n",
              "  "
            ]
          },
          "metadata": {},
          "execution_count": 12
        }
      ]
    },
    {
      "cell_type": "code",
      "source": [
        "# Определим размеры выборок для проверки, что сравнение статистически обосновано.\n",
        "# Сравним версии gate_30 и gate_40.\n",
        "A = df.version.groupby(df.version == 'gate_30').count()\n",
        "B = df.version.groupby(df.version == 'gate_40').count()\n",
        "print(A)\n",
        "print(B)"
      ],
      "metadata": {
        "colab": {
          "base_uri": "https://localhost:8080/"
        },
        "id": "XUYvDZnbKlQ5",
        "outputId": "c2af58e8-644c-4e88-c8cd-b96c2ebaf2ee"
      },
      "execution_count": null,
      "outputs": [
        {
          "output_type": "stream",
          "name": "stdout",
          "text": [
            "version\n",
            "False    45489\n",
            "True     44699\n",
            "Name: version, dtype: int64\n",
            "version\n",
            "False    44699\n",
            "True     45489\n",
            "Name: version, dtype: int64\n"
          ]
        }
      ]
    },
    {
      "cell_type": "markdown",
      "source": [
        "Число версий примерно одинаковы.\n",
        "Версия gate_30 будит называться контрольной группой A.\n",
        "Версия gate_40 будит называться тестовой группой B."
      ],
      "metadata": {
        "id": "nbjfZu1ENh4i"
      }
    },
    {
      "cell_type": "code",
      "source": [
        "from scipy.stats import mannwhitneyu\n",
        "from scipy.stats import ttest_ind"
      ],
      "metadata": {
        "id": "JUtBi3zHMfF2"
      },
      "execution_count": null,
      "outputs": []
    },
    {
      "cell_type": "code",
      "source": [
        "mannwhitneyu(df[df.version == 'gate_30'].sum_gamerounds,\n",
        "             df[df.version == 'gate_40'].sum_gamerounds)"
      ],
      "metadata": {
        "colab": {
          "base_uri": "https://localhost:8080/"
        },
        "id": "uy-rttdAOPK6",
        "outputId": "822f154c-1149-405d-a8bd-d7e66744c605"
      },
      "execution_count": null,
      "outputs": [
        {
          "output_type": "execute_result",
          "data": {
            "text/plain": [
              "MannwhitneyuResult(statistic=1024285761.5, pvalue=0.05089155279145376)"
            ]
          },
          "metadata": {},
          "execution_count": 15
        }
      ]
    },
    {
      "cell_type": "markdown",
      "source": [
        "pvalue практически равен альфе 0.05, соответственно этого теста будет недостаточно для принятия решения."
      ],
      "metadata": {
        "id": "FzjIoV5oR40_"
      }
    },
    {
      "cell_type": "code",
      "source": [
        "ttest_ind(df[df.version == 'gate_30'].sum_gamerounds,\n",
        "          df[df.version == 'gate_40'].sum_gamerounds)"
      ],
      "metadata": {
        "colab": {
          "base_uri": "https://localhost:8080/"
        },
        "id": "zOI-1oL3Ooiw",
        "outputId": "83248025-caf2-4c49-b7e1-1c1e4020124e"
      },
      "execution_count": null,
      "outputs": [
        {
          "output_type": "execute_result",
          "data": {
            "text/plain": [
              "Ttest_indResult(statistic=0.0633675766982082, pvalue=0.9494739458256001)"
            ]
          },
          "metadata": {},
          "execution_count": 16
        }
      ]
    },
    {
      "cell_type": "code",
      "source": [
        "from scipy.stats import kstest\n",
        "print(kstest(df['sum_gamerounds'][df.version == 'gate_30'], 'norm'))\n",
        "print(kstest(df['sum_gamerounds'][df.version == 'gate_40'], 'norm'))"
      ],
      "metadata": {
        "colab": {
          "base_uri": "https://localhost:8080/"
        },
        "id": "U1L8EJGyP4FH",
        "outputId": "f3b456af-340a-49d8-bb55-c54da76e345c"
      },
      "execution_count": null,
      "outputs": [
        {
          "output_type": "stream",
          "name": "stdout",
          "text": [
            "KstestResult(statistic=0.8724153079945488, pvalue=0.0, statistic_location=2, statistic_sign=-1)\n",
            "KstestResult(statistic=0.8707186187388001, pvalue=0.0, statistic_location=2, statistic_sign=-1)\n"
          ]
        }
      ]
    },
    {
      "cell_type": "markdown",
      "source": [
        "Распределение не нормальное."
      ],
      "metadata": {
        "id": "taOUKoALRovZ"
      }
    },
    {
      "cell_type": "code",
      "source": [
        "# Найдем сколько пользователь играет\n",
        "plot_df = df.groupby('sum_gamerounds').count()\n",
        "\n",
        "ax = plot_df[:100].plot()\n",
        "ax.set_xlabel('Total game rounds')\n",
        "ax.set_ylabel('Number of players')\n",
        "ax.set_title('Number of game rounds players on the first week')"
      ],
      "metadata": {
        "colab": {
          "base_uri": "https://localhost:8080/",
          "height": 490
        },
        "id": "l-gawGT6QmHP",
        "outputId": "22fa0407-c287-47be-be97-633555d7d263"
      },
      "execution_count": null,
      "outputs": [
        {
          "output_type": "execute_result",
          "data": {
            "text/plain": [
              "Text(0.5, 1.0, 'Number of game rounds players on the first week')"
            ]
          },
          "metadata": {},
          "execution_count": 18
        },
        {
          "output_type": "display_data",
          "data": {
            "text/plain": [
              "<Figure size 640x480 with 1 Axes>"
            ],
            "image/png": "[encoded data removed]"
          },
          "metadata": {}
        }
      ]
    },
    {
      "cell_type": "markdown",
      "source": [
        "График показывает, что большенство пользователей играет менее 20 раундов."
      ],
      "metadata": {
        "id": "Gu0vblbkVHaC"
      }
    },
    {
      "cell_type": "markdown",
      "source": [
        "Построим график различных распределений групп AB.\n",
        "Чтобы получить более детальное представление о активности пользователей, изменим распределение выборок."
      ],
      "metadata": {
        "id": "ZrcZyLQeWZk0"
      }
    },
    {
      "cell_type": "code",
      "source": [
        "plt.style.use('ggplot')\n",
        "\n",
        "Group_A = df[df.version == 'gate_30']\n",
        "print(Group_A.head())\n",
        "\n",
        "Group_B = df[df.version == 'gate_40']\n",
        "print(Group_B.head())\n",
        "\n",
        "bins = [0, 1, 10, 20, 30, 40, 50, 60, 70, 80, 90, 100, 200, 500]\n",
        "plot_GA = pd.DataFrame(Group_A.groupby(pd.cut(Group_A['sum_gamerounds'],\n",
        "                                              bins=bins)).count())\n",
        "plot_GB = pd.DataFrame(Group_B.groupby(pd.cut(Group_B['sum_gamerounds'],\n",
        "                                              bins=bins)).count())"
      ],
      "metadata": {
        "colab": {
          "base_uri": "https://localhost:8080/"
        },
        "id": "3ONr-aAPT8FO",
        "outputId": "78326e94-562d-4f33-bddd-b7d461cfd16b"
      },
      "execution_count": null,
      "outputs": [
        {
          "output_type": "stream",
          "name": "stdout",
          "text": [
            "    userid  version  sum_gamerounds  retention_1  retention_7\n",
            "0      116  gate_30               3            0            0\n",
            "1      337  gate_30              38            1            0\n",
            "6     1066  gate_30               0            0            0\n",
            "11    2101  gate_30               0            0            0\n",
            "13    2179  gate_30              39            1            0\n",
            "   userid  version  sum_gamerounds  retention_1  retention_7\n",
            "2     377  gate_40             165            1            0\n",
            "3     483  gate_40               1            0            0\n",
            "4     488  gate_40             179            1            1\n",
            "5     540  gate_40             187            1            1\n",
            "7    1444  gate_40               2            0            0\n"
          ]
        }
      ]
    },
    {
      "cell_type": "code",
      "source": [
        "ax = plot_GA.plot(kind = 'bar', y='userid', color = 'green', alpha = 1,\n",
        "                  title = 'Total usage by groups')\n",
        "plot_GB.plot(kind = 'bar', y = 'userid', ax = ax, color = 'red', alpha = 0.7)\n",
        "ax.set_xlabel('Total game rounds')\n",
        "ax.set_ylabel('Number of players')\n",
        "plt.legend(['Group A', 'Group B'])\n",
        "plt.tight_layout()\n",
        "plt.grid(True)"
      ],
      "metadata": {
        "colab": {
          "base_uri": "https://localhost:8080/",
          "height": 487
        },
        "id": "Lvi6sn8WZCBX",
        "outputId": "19da42d0-948d-477a-dfa7-9bb499319d78"
      },
      "execution_count": null,
      "outputs": [
        {
          "output_type": "display_data",
          "data": {
            "text/plain": [
              "<Figure size 640x480 with 1 Axes>"
            ],
            "image/png": "[encoded data removed]"
          },
          "metadata": {}
        }
      ]
    },
    {
      "cell_type": "markdown",
      "source": [
        "Гафик показывает, что между двумя версиями практически нет разници.\n",
        "Небольшие различия есть в пределах 30-40 и 40-50 сыгранных раундов."
      ],
      "metadata": {
        "id": "zZlHCB0qbjOs"
      }
    },
    {
      "cell_type": "markdown",
      "source": [
        "Посмотрим какое удержание в течении 1 дня."
      ],
      "metadata": {
        "id": "XqzIRn3Uc9Vc"
      }
    },
    {
      "cell_type": "code",
      "source": [
        "oneday = df.retention_1.sum()/df.retention_1.count()\n",
        "print(str(oneday*100)+'%')"
      ],
      "metadata": {
        "colab": {
          "base_uri": "https://localhost:8080/"
        },
        "id": "uL_YOI0xbTEW",
        "outputId": "700cd149-607e-48dc-d98e-090212f937f2"
      },
      "execution_count": null,
      "outputs": [
        {
          "output_type": "stream",
          "name": "stdout",
          "text": [
            "44.521444094558035%\n"
          ]
        }
      ]
    },
    {
      "cell_type": "markdown",
      "source": [
        "Посмотрим какое удержание в течении 1 дня для групп."
      ],
      "metadata": {
        "id": "xCTeBY6bdnXJ"
      }
    },
    {
      "cell_type": "code",
      "source": [
        "oneday = df.retention_1.groupby(df.version).sum()/df.retention_1.groupby(df.version).count()\n",
        "print(oneday*100)"
      ],
      "metadata": {
        "colab": {
          "base_uri": "https://localhost:8080/"
        },
        "id": "oYMzd3WFdXo0",
        "outputId": "36049f53-685e-45df-abae-f140bbeab2e6"
      },
      "execution_count": null,
      "outputs": [
        {
          "output_type": "stream",
          "name": "stdout",
          "text": [
            "version\n",
            "gate_30    44.819795\n",
            "gate_40    44.228275\n",
            "Name: retention_1, dtype: float64\n"
          ]
        }
      ]
    },
    {
      "cell_type": "markdown",
      "source": [
        "Обе версии имеют практически одинаковые результаты.\n",
        "Четково ответа стоит ли применять изменение мы не получили.\n",
        "Для принятия решения воспользуемся Bootstrapp для более детального иследования."
      ],
      "metadata": {
        "id": "KomlHqSGgfUc"
      }
    },
    {
      "cell_type": "code",
      "source": [
        "boot_1d = []\n",
        "for i in range(500):\n",
        "  boot_mean = df.retention_1.sample(frac=1, replace=True).groupby(df.version).mean()\n",
        "  boot_1d.append(boot_mean)\n",
        "\n",
        "boot_1d = pd.DataFrame(boot_1d)\n",
        "print(boot_1d)"
      ],
      "metadata": {
        "colab": {
          "base_uri": "https://localhost:8080/"
        },
        "id": "eaQky-l-eNwU",
        "outputId": "1c8c0579-5214-4732-f8ef-5be6fda5eee2"
      },
      "execution_count": null,
      "outputs": [
        {
          "output_type": "stream",
          "name": "stdout",
          "text": [
            "version       gate_30   gate_40\n",
            "retention_1  0.445231  0.446826\n",
            "retention_1  0.451420  0.442352\n",
            "retention_1  0.449809  0.442879\n",
            "retention_1  0.447050  0.443439\n",
            "retention_1  0.444878  0.444776\n",
            "...               ...       ...\n",
            "retention_1  0.450932  0.446205\n",
            "retention_1  0.446057  0.440844\n",
            "retention_1  0.448381  0.443330\n",
            "retention_1  0.450399  0.441014\n",
            "retention_1  0.449725  0.442505\n",
            "\n",
            "[500 rows x 2 columns]\n"
          ]
        }
      ]
    },
    {
      "cell_type": "code",
      "source": [
        "ax = boot_1d.plot.kde()\n",
        "ax.set_title('The average of 1-day retention for each AB group')\n",
        "ax.set_xlabel('The average of 1-day retention')"
      ],
      "metadata": {
        "colab": {
          "base_uri": "https://localhost:8080/",
          "height": 495
        },
        "id": "01978HwWijA-",
        "outputId": "4fc64dc3-e259-446a-f4f5-e2722be095e9"
      },
      "execution_count": null,
      "outputs": [
        {
          "output_type": "execute_result",
          "data": {
            "text/plain": [
              "Text(0.5, 0, 'The average of 1-day retention')"
            ]
          },
          "metadata": {},
          "execution_count": 26
        },
        {
          "output_type": "display_data",
          "data": {
            "text/plain": [
              "<Figure size 640x480 with 1 Axes>"
            ],
            "image/png": "[encoded data removed]"
          },
          "metadata": {}
        }
      ]
    },
    {
      "cell_type": "markdown",
      "source": [
        "Увеличим разницу в удержании в течение 1 дня."
      ],
      "metadata": {
        "id": "VRRh0E5bjrEU"
      }
    },
    {
      "cell_type": "code",
      "source": [
        "boot_1d['difference'] = (boot_1d['gate_30'] - boot_1d['gate_40']) / boot_1d['gate_40']*100\n",
        "\n",
        "ax = boot_1d['difference'].plot.kde()\n",
        "ax.set_xlabel('% Difference for 1-day retention by AB-group')\n",
        "ax.set_title('Zooming % difference')"
      ],
      "metadata": {
        "colab": {
          "base_uri": "https://localhost:8080/",
          "height": 495
        },
        "id": "5wqrErY2jLhM",
        "outputId": "063ff6f8-1ffc-44e2-d20a-fd4b5cf838a5"
      },
      "execution_count": null,
      "outputs": [
        {
          "output_type": "execute_result",
          "data": {
            "text/plain": [
              "Text(0.5, 1.0, 'Zooming % difference')"
            ]
          },
          "metadata": {},
          "execution_count": 27
        },
        {
          "output_type": "display_data",
          "data": {
            "text/plain": [
              "<Figure size 640x480 with 1 Axes>"
            ],
            "image/png": "[encoded data removed]"
          },
          "metadata": {}
        }
      ]
    },
    {
      "cell_type": "markdown",
      "source": [
        "Из графика видно, что наиболее вероятная разница 1-2% в пользу ворот на 30 уровне."
      ],
      "metadata": {
        "id": "bB-ree0JlYJZ"
      }
    },
    {
      "cell_type": "markdown",
      "source": [
        "Посчитаем в скольких процентах случаев разница больше 0."
      ],
      "metadata": {
        "id": "bmfhiBsQmh8B"
      }
    },
    {
      "cell_type": "code",
      "source": [
        "prob = (boot_1d['difference'] > 0).sum() / len(boot_1d['difference'])\n",
        "print(str(prob*100)+'%')"
      ],
      "metadata": {
        "colab": {
          "base_uri": "https://localhost:8080/"
        },
        "id": "HIy10X01k7cN",
        "outputId": "6580336d-151b-4745-b4f9-c0192dabff69"
      },
      "execution_count": null,
      "outputs": [
        {
          "output_type": "stream",
          "name": "stdout",
          "text": [
            "96.2%\n"
          ]
        }
      ]
    },
    {
      "cell_type": "markdown",
      "source": [
        "Вывод:\n",
        "Существует высокая вероятность того, что удержание в течении 1 дня лучше, когда ворота находятся на уровне 30."
      ],
      "metadata": {
        "id": "soTioQlPnET1"
      }
    },
    {
      "cell_type": "markdown",
      "source": [
        "Дальше расчитаем удержание в течении 7 дней для двух групп."
      ],
      "metadata": {
        "id": "Nf4__W88oMFu"
      }
    },
    {
      "cell_type": "code",
      "source": [
        "df.groupby('version')['retention_7'].sum() / df.groupby('version')['retention_7'].count()"
      ],
      "metadata": {
        "colab": {
          "base_uri": "https://localhost:8080/"
        },
        "id": "q5Z_xacQmYYP",
        "outputId": "e9e7f695-7d30-4855-8102-d37b3baa5342"
      },
      "execution_count": null,
      "outputs": [
        {
          "output_type": "execute_result",
          "data": {
            "text/plain": [
              "version\n",
              "gate_30    0.190183\n",
              "gate_40    0.182000\n",
              "Name: retention_7, dtype: float64"
            ]
          },
          "metadata": {},
          "execution_count": 29
        }
      ]
    },
    {
      "cell_type": "markdown",
      "source": [
        "Здесь так же процент удержания выше у gate_30."
      ],
      "metadata": {
        "id": "jQvfOIyBpKuX"
      }
    },
    {
      "cell_type": "markdown",
      "source": [
        "Для более точного расчета воспользуемся bootstrap-анализом."
      ],
      "metadata": {
        "id": "v9iQfBBlpkFG"
      }
    },
    {
      "cell_type": "code",
      "source": [
        "boot_7d = []\n",
        "for i in range(500):\n",
        "  boot_mean = df.retention_7.sample(frac=1, replace=True).groupby(df.version).mean()\n",
        "  boot_7d.append(boot_mean)\n",
        "\n",
        "boot_7d = pd.DataFrame(boot_7d)\n",
        "print(boot_7d.head())\n",
        "\n",
        "boot_7d['diff'] = (boot_7d['gate_30'] - boot_7d['gate_40']) / boot_7d['gate_40'] * 100"
      ],
      "metadata": {
        "colab": {
          "base_uri": "https://localhost:8080/"
        },
        "id": "J50glviKoqCx",
        "outputId": "ac422edf-7c6f-4939-8690-b37d13308263"
      },
      "execution_count": null,
      "outputs": [
        {
          "output_type": "stream",
          "name": "stdout",
          "text": [
            "version       gate_30   gate_40\n",
            "retention_7  0.192176  0.181408\n",
            "retention_7  0.188759  0.180544\n",
            "retention_7  0.189257  0.184148\n",
            "retention_7  0.191916  0.182135\n",
            "retention_7  0.189829  0.180980\n"
          ]
        }
      ]
    },
    {
      "cell_type": "code",
      "source": [
        "ax = boot_7d['diff'].plot.kde()\n",
        "ax.set_xlabel('% difference in means')\n",
        "ax.set_title('% difference distribution for 7 days')\n",
        "\n",
        "prob = (boot_7d['diff'] > 0).sum() / len(boot_7d['diff'])\n",
        "\n",
        "print(prob)"
      ],
      "metadata": {
        "colab": {
          "base_uri": "https://localhost:8080/",
          "height": 495
        },
        "id": "oYOyfbDGrF8x",
        "outputId": "eee8743d-2acb-46aa-d4b7-55d399f8df1a"
      },
      "execution_count": null,
      "outputs": [
        {
          "output_type": "stream",
          "name": "stdout",
          "text": [
            "1.0\n"
          ]
        },
        {
          "output_type": "display_data",
          "data": {
            "text/plain": [
              "<Figure size 640x480 with 1 Axes>"
            ],
            "image/png": "[encoded data removed]"
          },
          "metadata": {}
        }
      ]
    },
    {
      "cell_type": "code",
      "source": [
        "prob = (boot_7d['diff'] > 0).sum() / len(boot_7d['diff'])\n",
        "print(str(prob*100)+'%')"
      ],
      "metadata": {
        "colab": {
          "base_uri": "https://localhost:8080/"
        },
        "id": "41R6y8Z9uCUt",
        "outputId": "55a37417-f222-4653-e957-d664387a77fc"
      },
      "execution_count": null,
      "outputs": [
        {
          "output_type": "stream",
          "name": "stdout",
          "text": [
            "100.0%\n"
          ]
        }
      ]
    },
    {
      "cell_type": "markdown",
      "source": [
        "Вывод:\n",
        "Наши иследования показали, что удержание в течении 7 дней выше, когда ворота ноходятся на уровне 30. Следовательно для удержания аудитории не рекомендуется перемещать варота выше 30."
      ],
      "metadata": {
        "id": "VHs3LkbQsfOq"
      }
    }
  ]
}